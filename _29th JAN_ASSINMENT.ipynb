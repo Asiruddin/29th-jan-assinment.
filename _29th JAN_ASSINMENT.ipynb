{
 "cells": [
  {
   "cell_type": "code",
   "execution_count": 2,
   "id": "77c5c7b4-165f-42f5-9131-bf0795e18816",
   "metadata": {},
   "outputs": [],
   "source": [
    " Q1 = 'Guido van Rossum developed python programming language'\n",
    "    "
   ]
  },
  {
   "cell_type": "code",
   "execution_count": 3,
   "id": "4d76f2c2-5fdf-4bb5-a7bf-14bda9a1409b",
   "metadata": {},
   "outputs": [
    {
     "ename": "SyntaxError",
     "evalue": "unterminated string literal (detected at line 1) (4183830710.py, line 1)",
     "output_type": "error",
     "traceback": [
      "\u001b[0;36m  Cell \u001b[0;32mIn[3], line 1\u001b[0;36m\u001b[0m\n\u001b[0;31m    Q2 = 'Python is a multi-paradigm programming language.\u001b[0m\n\u001b[0m         ^\u001b[0m\n\u001b[0;31mSyntaxError\u001b[0m\u001b[0;31m:\u001b[0m unterminated string literal (detected at line 1)\n"
     ]
    }
   ],
   "source": [
    "Q2 = 'Python is a multi-paradigm programming language.\n",
    "Object-oriented programming and structured programming are fully supported,\n",
    "and many of their features support functional programming and \n",
    "aspect-oriented programming (including metaprogramming and metaobjects)'"
   ]
  },
  {
   "cell_type": "code",
   "execution_count": 4,
   "id": "202de056-77ab-40dc-aa95-c70034f627a1",
   "metadata": {},
   "outputs": [],
   "source": [
    "Q3 = 'Yes, Python is a case-sensitive language'"
   ]
  },
  {
   "cell_type": "code",
   "execution_count": 5,
   "id": "28f8b208-3cc3-4a3c-9be6-d27558ce398f",
   "metadata": {},
   "outputs": [],
   "source": [
    "Q4 = ' The extensions for Python files are - . py, . pyi'"
   ]
  },
  {
   "cell_type": "code",
   "execution_count": 6,
   "id": "3535433e-3013-42c2-92ed-df8619ac1d13",
   "metadata": {},
   "outputs": [
    {
     "ename": "SyntaxError",
     "evalue": "unterminated string literal (detected at line 1) (3487790405.py, line 1)",
     "output_type": "error",
     "traceback": [
      "\u001b[0;36m  Cell \u001b[0;32mIn[6], line 1\u001b[0;36m\u001b[0m\n\u001b[0;31m    Q5 = 'Python is an interpreted language,\u001b[0m\n\u001b[0m         ^\u001b[0m\n\u001b[0;31mSyntaxError\u001b[0m\u001b[0;31m:\u001b[0m unterminated string literal (detected at line 1)\n"
     ]
    }
   ],
   "source": [
    "Q5 = 'Python is an interpreted language,\n",
    "which means the source code of a Python program is converted into bytecode that is then executed by the Python virtual machine.\n",
    "Python is different from major compiled languages, such as C and C + +,\n",
    "as Python code is not required to be built and linked like code for these languages'"
   ]
  },
  {
   "cell_type": "code",
   "execution_count": 7,
   "id": "a9916afa-7f21-4840-9358-01d3d4bed1da",
   "metadata": {},
   "outputs": [],
   "source": [
    "Q6 = 'The following are blocks: a module, a function body, and a class definition'"
   ]
  },
  {
   "cell_type": "code",
   "execution_count": 8,
   "id": "2ce0a67d-41dd-42e9-bb07-76f8c631b826",
   "metadata": {},
   "outputs": [],
   "source": [
    "Q7 ='Hash character(#) is used to comment the line in the Python program'"
   ]
  },
  {
   "cell_type": "code",
   "execution_count": 13,
   "id": "0de62310-f216-4761-97ea-5d1ca8670228",
   "metadata": {},
   "outputs": [
    {
     "name": "stdout",
     "output_type": "stream",
     "text": [
      "3.10.8 | packaged by conda-forge | (main, Nov 22 2022, 08:26:04) [GCC 10.4.0]\n"
     ]
    }
   ],
   "source": [
    "#Q8 =\n",
    "import sys\n",
    "\n",
    "print(sys.version)\n"
   ]
  },
  {
   "cell_type": "code",
   "execution_count": 14,
   "id": "70ab7660-df4b-4722-9f21-4d6fbef612ce",
   "metadata": {},
   "outputs": [],
   "source": [
    "Q9 = 'It uses a construct called \"lambda\"'"
   ]
  },
  {
   "cell_type": "code",
   "execution_count": 17,
   "id": "20461860-b160-4e89-8670-c6a4880091f8",
   "metadata": {},
   "outputs": [],
   "source": [
    "Q10 = 'pip stands for \"preferred installer program\"'"
   ]
  },
  {
   "cell_type": "code",
   "execution_count": 18,
   "id": "be9e8b60-4f9f-4641-8b26-fa3d02868fd7",
   "metadata": {},
   "outputs": [],
   "source": [
    "Q11 = 'few builtin functions are \"add\",\"import\",\"print\",\"type\",\"list\",etc'"
   ]
  },
  {
   "cell_type": "code",
   "execution_count": 19,
   "id": "421790b6-031d-4632-a134-63f94f213dc4",
   "metadata": {},
   "outputs": [],
   "source": [
    "Q12 = 'An identifier can have a maximum length of 79 characters in Python'"
   ]
  },
  {
   "cell_type": "code",
   "execution_count": 20,
   "id": "f9a1feab-86b1-407c-acd2-3a6da8473d74",
   "metadata": {},
   "outputs": [
    {
     "ename": "SyntaxError",
     "evalue": "unterminated string literal (detected at line 1) (2407263601.py, line 1)",
     "output_type": "error",
     "traceback": [
      "\u001b[0;36m  Cell \u001b[0;32mIn[20], line 1\u001b[0;36m\u001b[0m\n\u001b[0;31m    Q13 = 'learming python makes easi to learn Data science,Scientific and mathematical computing,Web development,\u001b[0m\n\u001b[0m          ^\u001b[0m\n\u001b[0;31mSyntaxError\u001b[0m\u001b[0;31m:\u001b[0m unterminated string literal (detected at line 1)\n"
     ]
    }
   ],
   "source": [
    "Q13 = 'learming python makes easi to learn Data science,Scientific and mathematical computing,Web development,Finance, \n",
    "trading,System automation and administration\n",
    "Computer graphics\n",
    "Basic game development\n",
    "Security and penetration testing'"
   ]
  },
  {
   "cell_type": "code",
   "execution_count": 21,
   "id": "08b6c325-2fc4-4ce2-b06c-a61c14e354c9",
   "metadata": {},
   "outputs": [],
   "source": [
    "Q14 = 'Memory management in Python involves a private heap containing all Python objects and data structures. The management of this private heap is ensured internally by the Python memory manager'"
   ]
  },
  {
   "cell_type": "code",
   "execution_count": 22,
   "id": "cc21d60a-16a7-48aa-bfd7-e47cec8a3712",
   "metadata": {},
   "outputs": [],
   "source": [
    "Q15 = 'In the section entitled User Variables, double-click on the entry that says Path. Another window will pop up showing a list of paths. Click the New button and paste the path to your Python executable there'"
   ]
  },
  {
   "cell_type": "code",
   "execution_count": null,
   "id": "05f9818c-321c-4444-af88-57778e9cb8c6",
   "metadata": {},
   "outputs": [],
   "source": []
  }
 ],
 "metadata": {
  "kernelspec": {
   "display_name": "Python 3 (ipykernel)",
   "language": "python",
   "name": "python3"
  },
  "language_info": {
   "codemirror_mode": {
    "name": "ipython",
    "version": 3
   },
   "file_extension": ".py",
   "mimetype": "text/x-python",
   "name": "python",
   "nbconvert_exporter": "python",
   "pygments_lexer": "ipython3",
   "version": "3.10.8"
  }
 },
 "nbformat": 4,
 "nbformat_minor": 5
}
